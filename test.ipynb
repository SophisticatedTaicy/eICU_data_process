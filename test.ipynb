{
 "cells": [
  {
   "cell_type": "code",
   "execution_count": 23,
   "metadata": {
    "collapsed": true,
    "pycharm": {
     "name": "#%%\n"
    }
   },
   "outputs": [],
   "source": [
    "import csv\n",
    "\n",
    "from pandas import DataFrame\n",
    "\n",
    "dict = {'platelets x 1000_variances': 0, 'potassium_variances': 0, 'PTT_variances': 0, 'sodium_variances': 0,\n",
    "        'Temperature_variances': 0, 'WBC x 1000_variances': 0, 'Mean airway pressure_variances': 0,\n",
    "        'Plateau Pressure_variances': 0, 'SaO2_variances': 0, 'Tidal Volume (set)_variances': 0,\n",
    "        'cvp_variances': 12}\n",
    "\n",
    "data = DataFrame([dict])\n",
    "data.to_csv('result123456.csv', mode='a', header=True)"
   ]
  },
  {
   "cell_type": "code",
   "execution_count": 24,
   "outputs": [
    {
     "name": "stdout",
     "output_type": "stream",
     "text": [
      "200\n"
     ]
    }
   ],
   "source": [
    "header = {'warfarin': 0, 'dobutamine': 0, 'Dopamine': 0, 'epinephrine': 0, 'Heparin': 0, 'Milrinone': 0,\n",
    "          'Norepinephrine': 0,\n",
    "          'phenylephrine': 0, 'vasopressin': 0, 'Vasopressor': 0, 'Acute_Coronary_Syndrome_diagnosis': 0,\n",
    "          'Acute_Myocardial_Infarction': 0, 'Acute_Renal_Failure': 0, 'Arrhythmia': 0, 'Asthma_Emphysema': 0,\n",
    "          'Cancer': 0,\n",
    "          'Cardiac_Arrest': 0, 'Cardiogenic_Shock': 0, 'Cardiovascular_Medical': 0, 'Cardiovascular_Other': 0,\n",
    "          'Cerebrovascular_Accident_Stroke': 0, 'Chest_Pain_Unknown_Origin': 0, 'Coma': 0,\n",
    "          'Coronary_Artery_Bypass_Graft': 0,\n",
    "          'Diabetic_Ketoacidosis': 0, 'Gastrointestinal_Bleed': 0, 'Gastrointestinal_Obstruction': 0,\n",
    "          'Neurologic': 0,\n",
    "          'Overdose': 0, 'Pneumonia': 0, 'Respiratory_Medical_Other': 0, 'Sepsis': 0, 'Thoracotomy': 0, 'Trauma': 0,\n",
    "          'Valve_Disease': 0, 'admitsource': 0, 'age': 0, 'gender': 0, 'BMI': 0, 'status': 0, 'admission_score': 0,\n",
    "          'Albumin_median': 0, 'ALT (SGPT)_median': 0, 'AST (SGOT)_median': 0, '-bands_median': 0,\n",
    "          'Base Excess_median': 0, '-basos_median': 0, 'bicarbonate_median': 0, 'total bilirubin_median': 0,\n",
    "          'BUN_median': 0, 'calcium_median': 0, 'Total CO2_median': 0, 'creatinine_median': 0, '-eos_median': 0,\n",
    "          'FiO2_median': 0, 'glucose_median': 0, 'Hemoglobin_median': 0, 'PT - INR_median': 0,\n",
    "          'ionized calcium_median': 0, 'lactate_median': 0, 'magnesium_median': 0, 'paCO2_median': 0,\n",
    "          'PaO2_median': 0,\n",
    "          'P/F ratio_median': 0, 'PEEP_median': 0, 'pH_median': 0, 'platelets x 1000_median': 0,\n",
    "          'potassium_median': 0,\n",
    "          'PTT_median': 0, 'sodium_median': 0, 'Temperature_median': 0, 'WBC x 1000_median': 0,\n",
    "          'Mean airway pressure_median': 0, 'Plateau Pressure_median': 0, 'SaO2_median': 0,\n",
    "          'Tidal Volume (set)_median': 0, 'cvp_median': 0, 'etCO2_median': 0, 'padiastolic_median': 0,\n",
    "          'pamean_median': 0, 'pasystolic_median': 0, 'Eyes_median': 0, 'GCS Total_median': 0, 'Motor_median': 0,\n",
    "          'Verbal_median': 0, 'Heart Rate_median': 0, 'Invasive BP Diastolic_median': 0,\n",
    "          'Invasive BP Mean_median': 0,\n",
    "          'Invasive BP Systolic_median': 0, 'Non-Invasive BP Diastolic_median': 0, 'Non-Invasive BP Mean_median': 0,\n",
    "          'Non-Invasive BP Systolic_median': 0, 'Respiratory rate_median': 0, 'PIP_median': 0,\n",
    "          'Albumin_variances': 0,\n",
    "          'ALT (SGPT)_variances': 0, 'AST (SGOT)_variances': 0, '-bands_variances': 0, 'Base Excess_variances': 0,\n",
    "          '-basos_variances': 0, 'bicarbonate_variances': 0, 'total bilirubin_variances': 0, 'BUN_variances': 0,\n",
    "          'calcium_variances': 0, 'Total CO2_variances': 0, 'creatinine_variances': 0, '-eos_variances': 0,\n",
    "          'FiO2_variances': 0, 'glucose_variances': 0, 'Hemoglobin_variances': 0, 'PT - INR_variances': 0,\n",
    "          'ionized calcium_variances': 0, 'lactate_variances': 0, 'magnesium_variances': 0, 'paCO2_variances': 0,\n",
    "          'PaO2_variances': 0, 'P/F ratio_variances': 0, 'PEEP_variances': 0, 'pH_variances': 0,\n",
    "          'platelets x 1000_variances': 0, 'potassium_variances': 0, 'PTT_variances': 0, 'sodium_variances': 0,\n",
    "          'Temperature_variances': 0, 'WBC x 1000_variances': 0, 'Mean airway pressure_variances': 0,\n",
    "          'Plateau Pressure_variances': 0, 'SaO2_variances': 0, 'Tidal Volume (set)_variances': 0,\n",
    "          'cvp_variances': 0,\n",
    "          'etCO2_variances': 0, 'padiastolic_variances': 0, 'pamean_variances': 0, 'pasystolic_variances': 0,\n",
    "          'Eyes_variances': 0, 'GCS Total_variances': 0, 'Motor_variances': 0, 'Verbal_variances': 0,\n",
    "          'Heart Rate_variances': 0, 'Invasive BP Diastolic_variances': 0, 'Invasive BP Mean_variances': 0,\n",
    "          'Invasive BP Systolic_variances': 0, 'Non-Invasive BP Diastolic_variances': 0,\n",
    "          'Non-Invasive BP Mean_variances': 0, 'Non-Invasive BP Systolic_variances': 0,\n",
    "          'Respiratory rate_variances': 0,\n",
    "          'PIP_variances': 0, 'Albumin_changerate': 0, 'ALT (SGPT)_changerate': 0, 'AST (SGOT)_changerate': 0,\n",
    "          '-bands_changerate': 0, 'Base Excess_changerate': 0, '-basos_changerate': 0, 'bicarbonate_changerate': 0,\n",
    "          'total bilirubin_changerate': 0, 'BUN_changerate': 0, 'calcium_changerate': 0, 'Total CO2_changerate': 0,\n",
    "          'creatinine_changerate': 0, '-eos_changerate': 0, 'FiO2_changerate': 0, 'glucose_changerate': 0,\n",
    "          'Hemoglobin_changerate': 0, 'PT - INR_changerate': 0, 'ionized calcium_changerate': 0,\n",
    "          'lactate_changerate': 0, 'magnesium_changerate': 0, 'paCO2_changerate': 0, 'PaO2_changerate': 0,\n",
    "          'P/F ratio_changerate': 0, 'PEEP_changerate': 0, 'pH_changerate': 0, 'platelets x 1000_changerate': 0,\n",
    "          'potassium_changerate': 0, 'PTT_changerate': 0, 'sodium_changerate': 0, 'Temperature_changerate': 0,\n",
    "          'WBC x 1000_changerate': 0, 'Mean airway pressure_changerate': 0, 'Plateau Pressure_changerate': 0,\n",
    "          'SaO2_changerate': 0, 'Tidal Volume (set)_changerate': 0, 'cvp_changerate': 0, 'etCO2_changerate': 0,\n",
    "          'padiastolic_changerate': 0, 'pamean_changerate': 0, 'pasystolic_changerate': 0, 'Eyes_changerate': 0,\n",
    "          'GCS Total_changerate': 0, 'Motor_changerate': 0, 'Verbal_changerate': 0, 'Heart Rate_changerate': 0,\n",
    "          'Invasive BP Diastolic_changerate': 0, 'Invasive BP Mean_changerate': 0,\n",
    "          'Invasive BP Systolic_changerate': 0,\n",
    "          'Non-Invasive BP Diastolic_changerate': 0, 'Non-Invasive BP Mean_changerate': 0,\n",
    "          'Non-Invasive BP Systolic_changerate': 0, 'Respiratory rate_changerate': 0, 'PIP_changerate': 0}\n",
    "print(len(header))"
   ],
   "metadata": {
    "collapsed": false,
    "pycharm": {
     "name": "#%%\n"
    }
   }
  },
  {
   "cell_type": "code",
   "execution_count": 26,
   "outputs": [
    {
     "name": "stdout",
     "output_type": "stream",
     "text": [
      "53\n"
     ]
    }
   ],
   "source": [
    "dict = {'Albumin_median': 0, 'ALT (SGPT)_median': 0, 'AST (SGOT)_median': 0, '-bands_median': 0,\n",
    "        'Base Excess_median': 0, '-basos_median': 0, 'bicarbonate_median': 0, 'total bilirubin_median': 0,\n",
    "        'BUN_median': 0, 'calcium_median': 0, 'Total CO2_median': 0, 'creatinine_median': 0, '-eos_median': 0,\n",
    "        'FiO2_median': 0, 'glucose_median': 0, 'Hemoglobin_median': 0, 'PT - INR_median': 0,\n",
    "        'ionized calcium_median': 0, 'lactate_median': 0, 'magnesium_median': 0, 'paCO2_median': 0,\n",
    "        'PaO2_median': 0,\n",
    "        'P/F ratio_median': 0, 'PEEP_median': 0, 'pH_median': 0, 'platelets x 1000_median': 0,\n",
    "        'potassium_median': 0,\n",
    "        'PTT_median': 0, 'sodium_median': 0, 'Temperature_median': 0, 'WBC x 1000_median': 0,\n",
    "        'Mean airway pressure_median': 0, 'Plateau Pressure_median': 0, 'SaO2_median': 0,\n",
    "        'Tidal Volume (set)_median': 0, 'cvp_median': 0, 'etCO2_median': 0, 'padiastolic_median': 0,\n",
    "        'pamean_median': 0, 'pasystolic_median': 0, 'Eyes_median': 0, 'GCS Total_median': 0, 'Motor_median': 0,\n",
    "        'Verbal_median': 0, 'Heart Rate_median': 0, 'Invasive BP Diastolic_median': 0,\n",
    "        'Invasive BP Mean_median': 0,\n",
    "        'Invasive BP Systolic_median': 0, 'Non-Invasive BP Diastolic_median': 0, 'Non-Invasive BP Mean_median': 0,\n",
    "        'Non-Invasive BP Systolic_median': 0, 'Respiratory rate_median': 0, 'PIP_median': 0}\n",
    "print(len(dict))"
   ],
   "metadata": {
    "collapsed": false,
    "pycharm": {
     "name": "#%%\n"
    }
   }
  },
  {
   "cell_type": "code",
   "execution_count": 28,
   "outputs": [
    {
     "name": "stdout",
     "output_type": "stream",
     "text": [
      "True\n"
     ]
    }
   ],
   "source": [
    "dynamic_name_list = ['Albumin', 'ALT (SGPT)', 'AST (SGOT)', '-bands', 'Base Excess', '-basos', 'bicarbonate',\n",
    "                     'total bilirubin', 'BUN', 'calcium', 'Total CO2', 'creatinine', '-eos', 'FiO2', 'glucose',\n",
    "                     'Hemoglobin', 'PT - INR', 'ionized calcium', 'lactate', 'magnesium', 'paCO2', 'PaO2', 'P/F ratio',\n",
    "                     'PEEP', 'pH', 'platelets x 1000', 'potassium', 'PTT', 'sodium', 'Temperature', 'WBC x 1000',\n",
    "                     'Mean airway pressure', 'Plateau Pressure', 'SaO2', 'Tidal Volume (set)', 'cvp', 'etCO2',\n",
    "                     'padiastolic', 'pamean', 'pasystolic', 'Eyes', 'GCS Total', 'Motor',\n",
    "                     'Verbal', 'Heart Rate', 'Invasive BP Diastolic', 'Invasive BP Mean',\n",
    "                     'Invasive BP Systolic', 'Non-Invasive BP Diastolic', 'Non-Invasive BP Mean',\n",
    "                     'Non-Invasive BP Systolic', 'Respiratory rate', 'PIP']\n",
    "boo = ('Total CO2' in dynamic_name_list)\n",
    "print(boo)"
   ],
   "metadata": {
    "collapsed": false,
    "pycharm": {
     "name": "#%%\n"
    }
   }
  },
  {
   "cell_type": "code",
   "execution_count": 29,
   "outputs": [],
   "source": [
    "import psycopg2\n",
    "\n",
    "conn = psycopg2.connect(database=\"eicu\", user=\"postgres\", password=\"123456\", host=\"172.16.60.173\", port=\"3307\")\n",
    "cursor = conn.cursor()\n",
    "sql = \"set search_path to 'eicu_crd'\"\n",
    "cursor.execute(sql)"
   ],
   "metadata": {
    "collapsed": false,
    "pycharm": {
     "name": "#%%\n"
    }
   }
  },
  {
   "cell_type": "code",
   "execution_count": 33,
   "outputs": [
    {
     "name": "stdout",
     "output_type": "stream",
     "text": [
      "41\n",
      "{'warfarin': 0, 'dobutamine': 0, 'Dopamine': 0, 'epinephrine': 0, 'Heparin': 0, 'Milrinone': 0, 'Norepinephrine': 0, 'phenylephrine': 0, 'vasopressin': 0, 'Vasopressor': 0, 'Acute_Coronary_Syndrome_diagnosis': 0, 'Acute_Myocardial_Infarction': 0, 'Acute_Renal_Failure': 0, 'Arrhythmia': 0, 'Asthma_Emphysema': 0, 'Cancer': 0, 'Cardiac_Arrest': 0, 'Cardiogenic_Shock': 0, 'Cardiovascular_Medical': 0, 'Cardiovascular_Other': 0, 'Cerebrovascular_Accident_Stroke': 0, 'Chest_Pain_Unknown_Origin': 0, 'Coma': 0, 'Coronary_Artery_Bypass_Graft': 0, 'Diabetic_Ketoacidosis': 0, 'Gastrointestinal_Bleed': 0, 'Gastrointestinal_Obstruction': 0, 'Neurologic': 0, 'Overdose': 0, 'Pneumonia': 0, 'Respiratory_Medical_Other': 1, 'Sepsis': 0, 'Thoracotomy': 0, 'Trauma': 0, 'Valve_Disease': 0, 'admitsource': 'Floor', 'age': '70', 'gender': 'Male', 'BMI': None, 'status': 'Expired', 'admission_score': 101, 'Albumin_median': 0, 'ALT (SGPT)_median': 0, 'AST (SGOT)_median': 0, '-bands_median': 0, 'Base Excess_median': 0, '-basos_median': 0, 'bicarbonate_median': 0, 'total bilirubin_median': 0, 'BUN_median': 0, 'calcium_median': 0, 'Total CO2_median': 0, 'creatinine_median': 0, '-eos_median': 0, 'FiO2_median': 0, 'glucose_median': 0, 'Hemoglobin_median': 0, 'PT - INR_median': 0, 'ionized calcium_median': 0, 'lactate_median': 0, 'magnesium_median': 0, 'paCO2_median': 0, 'PaO2_median': 0, 'P/F ratio_median': 0, 'PEEP_median': 0, 'pH_median': 0, 'platelets x 1000_median': 0, 'potassium_median': 0, 'PTT_median': 0, 'sodium_median': 0, 'Temperature_median': 0, 'WBC x 1000_median': 0, 'Mean airway pressure_median': 0, 'Plateau Pressure_median': 0, 'SaO2_median': 0, 'Tidal Volume (set)_median': 0, 'cvp_median': 0, 'etCO2_median': 0, 'padiastolic_median': 0, 'pamean_median': 0, 'pasystolic_median': 0, 'Eyes_median': 0, 'GCS Total_median': 0, 'Motor_median': 0, 'Verbal_median': 0, 'Heart Rate_median': 0, 'Invasive BP Diastolic_median': 0, 'Invasive BP Mean_median': 0, 'Invasive BP Systolic_median': 0, 'Non-Invasive BP Diastolic_median': 0, 'Non-Invasive BP Mean_median': 0, 'Non-Invasive BP Systolic_median': 0, 'Respiratory rate_median': 0, 'PIP_median': 0, 'Albumin_variances': 0, 'ALT (SGPT)_variances': 0, 'AST (SGOT)_variances': 0, '-bands_variances': 0, 'Base Excess_variances': 0, '-basos_variances': 0, 'bicarbonate_variances': 0, 'total bilirubin_variances': 0, 'BUN_variances': 0, 'calcium_variances': 0, 'Total CO2_variances': 0, 'creatinine_variances': 0, '-eos_variances': 0, 'FiO2_variances': 0, 'glucose_variances': 0, 'Hemoglobin_variances': 0, 'PT - INR_variances': 0, 'ionized calcium_variances': 0, 'lactate_variances': 0, 'magnesium_variances': 0, 'paCO2_variances': 0, 'PaO2_variances': 0, 'P/F ratio_variances': 0, 'PEEP_variances': 0, 'pH_variances': 0, 'platelets x 1000_variances': 0, 'potassium_variances': 0, 'PTT_variances': 0, 'sodium_variances': 0, 'Temperature_variances': 0, 'WBC x 1000_variances': 0, 'Mean airway pressure_variances': 0, 'Plateau Pressure_variances': 0, 'SaO2_variances': 0, 'Tidal Volume (set)_variances': 0, 'cvp_variances': 0, 'etCO2_variances': 0, 'padiastolic_variances': 0, 'pamean_variances': 0, 'pasystolic_variances': 0, 'Eyes_variances': 0, 'GCS Total_variances': 0, 'Motor_variances': 0, 'Verbal_variances': 0, 'Heart Rate_variances': 0, 'Invasive BP Diastolic_variances': 0, 'Invasive BP Mean_variances': 0, 'Invasive BP Systolic_variances': 0, 'Non-Invasive BP Diastolic_variances': 0, 'Non-Invasive BP Mean_variances': 0, 'Non-Invasive BP Systolic_variances': 0, 'Respiratory rate_variances': 0, 'PIP_variances': 0, 'Albumin_changerate': 0, 'ALT (SGPT)_changerate': 0, 'AST (SGOT)_changerate': 0, '-bands_changerate': 0, 'Base Excess_changerate': 0, '-basos_changerate': 0, 'bicarbonate_changerate': 0, 'total bilirubin_changerate': 0, 'BUN_changerate': 0, 'calcium_changerate': 0, 'Total CO2_changerate': 0, 'creatinine_changerate': 0, '-eos_changerate': 0, 'FiO2_changerate': 0, 'glucose_changerate': 0, 'Hemoglobin_changerate': 0, 'PT - INR_changerate': 0, 'ionized calcium_changerate': 0, 'lactate_changerate': 0, 'magnesium_changerate': 0, 'paCO2_changerate': 0, 'PaO2_changerate': 0, 'P/F ratio_changerate': 0, 'PEEP_changerate': 0, 'pH_changerate': 0, 'platelets x 1000_changerate': 0, 'potassium_changerate': 0, 'PTT_changerate': 0, 'sodium_changerate': 0, 'Temperature_changerate': 0, 'WBC x 1000_changerate': 0, 'Mean airway pressure_changerate': 0, 'Plateau Pressure_changerate': 0, 'SaO2_changerate': 0, 'Tidal Volume (set)_changerate': 0, 'cvp_changerate': 0, 'etCO2_changerate': 0, 'padiastolic_changerate': 0, 'pamean_changerate': 0, 'pasystolic_changerate': 0, 'Eyes_changerate': 0, 'GCS Total_changerate': 0, 'Motor_changerate': 0, 'Verbal_changerate': 0, 'Heart Rate_changerate': 0, 'Invasive BP Diastolic_changerate': 0, 'Invasive BP Mean_changerate': 0, 'Invasive BP Systolic_changerate': 0, 'Non-Invasive BP Diastolic_changerate': 0, 'Non-Invasive BP Mean_changerate': 0, 'Non-Invasive BP Systolic_changerate': 0, 'Respiratory rate_changerate': 0, 'PIP_changerate': 0}\n"
     ]
    }
   ],
   "source": [],
   "metadata": {
    "collapsed": false,
    "pycharm": {
     "name": "#%%\n"
    }
   }
  },
  {
   "cell_type": "code",
   "execution_count": null,
   "outputs": [],
   "source": [],
   "metadata": {
    "collapsed": false,
    "pycharm": {
     "name": "#%%\n"
    }
   }
  },
  {
   "cell_type": "code",
   "execution_count": null,
   "outputs": [],
   "source": [],
   "metadata": {
    "collapsed": false,
    "pycharm": {
     "name": "#%%\n"
    }
   }
  },
  {
   "cell_type": "code",
   "execution_count": null,
   "outputs": [],
   "source": [],
   "metadata": {
    "collapsed": false,
    "pycharm": {
     "name": "#%%\n"
    }
   }
  },
  {
   "cell_type": "code",
   "execution_count": 2,
   "outputs": [
    {
     "name": "stdout",
     "output_type": "stream",
     "text": [
      "215\n"
     ]
    }
   ],
   "source": [
    "header = ['warfarin', 'dobutamine', 'Dopamine', 'epinephrine', 'Heparin', 'Milrinone', 'Norepinephrine',\n",
    "          'phenylephrine', 'vasopressin', 'Vasopressor', 'Acute_Coronary_Syndrome_diagnosis',\n",
    "          'Acute_Myocardial_Infarction', 'Acute_Renal_Failure', 'Arrhythmia', 'Asthma_Emphysema', 'Cancer',\n",
    "          'Cardiac_Arrest', 'Cardiogenic_Shock', 'Cardiovascular_Medical', 'Cardiovascular_Other',\n",
    "          'Cerebrovascular_Accident_Stroke', 'Chest_Pain_Unknown_Origin', 'Coma', 'Coronary_Artery_Bypass_Graft',\n",
    "          'Diabetic_Ketoacidosis', 'Gastrointestinal_Bleed', 'Gastrointestinal_Obstruction', 'Neurologic',\n",
    "          'Overdose', 'Pneumonia', 'Respiratory_Medical_Other', 'Sepsis', 'Thoracotomy', 'Trauma', 'Valve_Disease',\n",
    "          'admitsource', 'age', 'gender', 'BMI', 'status', 'admission_score', 'albuminmedian', 'alpmedian',\n",
    "          'altmedian', 'ast (sgot)median', 'bandsmedian', 'base excessmedian', 'basosmedian',\n",
    "          'bicarbonatemedian', 'total bilirubinmedian', 'bunmedian', 'calciummedian', 'co2median',\n",
    "          'urinary creatininemedian', 'cvpmedian', '-eosmedian', 'etco2median', 'fio2median', 'gcs(eyes)median',\n",
    "          'gcs(intub)median', 'gcs totalmedian', 'gcs(motor)median', 'gcs(unable)median', 'gcs(verbal)median',\n",
    "          'glucosemedian', 'heart ratemedian', 'hematocritmedian', 'hemoglobinmedian', 'pt_inrmedian',\n",
    "          'invasive bp diastolicmedian', 'invasive bp meanmedian', 'invasive bp systolicmedian',\n",
    "          'ionized calcium(cialcium)median', 'lactatemedian', 'magnesiummedian', 'mean airway pressuremedian',\n",
    "          'non-invasive bp diastolicmedian', 'non-invasive bp meanmedian', 'non-invasive bp systolicmedian',\n",
    "          'paco2median', 'pao2median', 'pap_systolicmedian', 'pap_meanmedian', 'pap_diastolicmedian',\n",
    "          'p / f ratiomedian', 'pipmedian', 'peepmedian', 'phmedian', 'platelets x 1000median',\n",
    "          'plateau pressuremedian', 'potassiummedian', 'pttmedian', 'sao2median', 'sodiummedian',\n",
    "          'spo2median', 'respiratory ratemedian', 'temperaturemedian', 'tidal volume / ibwmedian',\n",
    "          'wbc x 1000median', 'albuminvariance', 'alpvariance', 'altvariance', 'ast (sgot)variance',\n",
    "          'bandsvariance', 'base excessvariance', 'basosvariance', 'bicarbonatevariance',\n",
    "          'total bilirubinvariance', 'bunvariance', 'calciumvariance', 'co2variance', 'urinary creatininevariance',\n",
    "          'cvpvariance', '-eosvariance', 'etco2variance', 'fio2variance', 'gcs(eyes)variance',\n",
    "          'gcs(intub)variance', 'gcs totalvariance', 'gcs(motor)variance', 'gcs(unable)variance',\n",
    "          'gcs(verbal)variance', 'glucosevariance', 'heart ratevariance', 'hematocritvariance',\n",
    "          'hemoglobinvariance', 'pt_inrvariance', 'invasive bp diastolicvariance', 'invasive bp meanvariance',\n",
    "          'invasive bp systolicvariance', 'ionized calcium(cialcium)variance', 'lactatevariance',\n",
    "          'magnesiumvariance', 'mean airway pressurevariance', 'non-invasive bp diastolicvariance',\n",
    "          'non-invasive bp meanvariance', 'non-invasive bp systolicvariance', 'paco2variance', 'pao2variance',\n",
    "          'pap_systolicvariance', 'pap_meanvariance', 'pap_diastolicvariance', 'p / f ratiovariance',\n",
    "          'pipvariance', 'peepvariance', 'phvariance', 'platelets x 1000variance', 'plateau pressurevariance',\n",
    "          'potassiumvariance', 'pttvariance', 'sao2variance', 'sodiumvariance', 'spo2variance',\n",
    "          'respiratory ratevariance', 'temperaturevariance', 'tidal volume / ibwvariance', 'wbc x 1000variance',\n",
    "          'albuminchange_rate', 'alpchange_rate', 'altchange_rate', 'ast (sgot)change_rate',\n",
    "          'bandschange_rate', 'base excesschange_rate', 'basoschange_rate', 'bicarbonatechange_rate',\n",
    "          'total bilirubinchange_rate', 'bunchange_rate', 'calciumchange_rate', 'co2change_rate',\n",
    "          'urinary creatininechange_rate', 'cvpchange_rate', '-eoschange_rate', 'etco2change_rate',\n",
    "          'fio2change_rate',\n",
    "          'gcs(eyes)change_rate', 'gcs(intub)change_rate', 'gcs totalchange_rate', 'gcs(motor)change_rate',\n",
    "          'gcs(unable)change_rate', 'gcs(verbal)change_rate', 'glucosechange_rate', 'heart ratechange_rate',\n",
    "          'hematocritchange_rate', 'hemoglobinchange_rate', 'pt_inrchange_rate',\n",
    "          'invasive bp diastolicchange_rate', 'invasive bp meanchange_rate', 'invasive bp systolicchange_rate',\n",
    "          'ionized calcium(cialcium)change_rate', 'lactatechange_rate', 'magnesiumchange_rate',\n",
    "          'mean airway pressurechange_rate', 'non-invasive bp diastolicchange_rate',\n",
    "          'non-invasive bp meanchange_rate', 'non-invasive bp systolicchange_rate', 'paco2change_rate',\n",
    "          'pao2change_rate', 'pap_systolicchange_rate', 'pap_meanchange_rate', 'pap_diastolicchange_rate',\n",
    "          'p / f ratiochange_rate', 'pipchange_rate', 'peepchange_rate', 'phchange_rate',\n",
    "          'platelets x 1000change_rate', 'plateau pressurechange_rate', 'potassiumchange_rate',\n",
    "          'pttchange_rate', 'sao2change_rate', 'sodiumchange_rate', 'spo2change_rate',\n",
    "          'respiratory ratechange_rate', 'temperaturechange_rate', 'tidal volume / ibwchange_rate',\n",
    "          'wbc x 1000change_rate']\n",
    "print(len(header))\n",
    "\n",
    "dict = {}\n",
    "for item in header:\n",
    "    dict[item] = 0"
   ],
   "metadata": {
    "collapsed": false,
    "pycharm": {
     "name": "#%%\n"
    }
   }
  },
  {
   "cell_type": "code",
   "execution_count": 61,
   "outputs": [
    {
     "ename": "InFailedSqlTransaction",
     "evalue": "current transaction is aborted, commands ignored until end of transaction block\n",
     "output_type": "error",
     "traceback": [
      "\u001B[1;31m---------------------------------------------------------------------------\u001B[0m",
      "\u001B[1;31mInFailedSqlTransaction\u001B[0m                    Traceback (most recent call last)",
      "Input \u001B[1;32mIn [61]\u001B[0m, in \u001B[0;36m<cell line: 2>\u001B[1;34m()\u001B[0m\n\u001B[0;32m      2\u001B[0m \u001B[38;5;28;01mfor\u001B[39;00m \u001B[38;5;28mid\u001B[39m \u001B[38;5;129;01min\u001B[39;00m unitid:\n\u001B[0;32m      3\u001B[0m     sql \u001B[38;5;241m=\u001B[39m \u001B[38;5;124m\"\u001B[39m\u001B[38;5;124mselect * \u001B[39m\u001B[38;5;124m\"\u001B[39m\\\n\u001B[0;32m      4\u001B[0m           \u001B[38;5;124m\"\u001B[39m\u001B[38;5;124m from patient\u001B[39m\u001B[38;5;124m\"\u001B[39m\\\n\u001B[0;32m      5\u001B[0m           \u001B[38;5;124m\"\u001B[39m\u001B[38;5;124m where patient.patientunitstayid=\u001B[39m\u001B[38;5;124m\"\u001B[39m \u001B[38;5;241m+\u001B[39m \u001B[38;5;28mstr\u001B[39m(\u001B[38;5;28mid\u001B[39m) \u001B[38;5;241m+\u001B[39m \\\n\u001B[0;32m      6\u001B[0m           \u001B[38;5;124m\"\u001B[39m\u001B[38;5;124m order by patient.hospitaladmittime24 asc;\u001B[39m\u001B[38;5;124m\"\u001B[39m\n\u001B[1;32m----> 7\u001B[0m     \u001B[43mcursor\u001B[49m\u001B[38;5;241;43m.\u001B[39;49m\u001B[43mexecute\u001B[49m\u001B[43m(\u001B[49m\u001B[43msql\u001B[49m\u001B[43m)\u001B[49m\n\u001B[0;32m      8\u001B[0m     \u001B[38;5;28mlist\u001B[39m \u001B[38;5;241m=\u001B[39m cursor\u001B[38;5;241m.\u001B[39mfetchone()\n\u001B[0;32m      9\u001B[0m     \u001B[38;5;28mprint\u001B[39m(\u001B[38;5;28mlist\u001B[39m)\n",
      "\u001B[1;31mInFailedSqlTransaction\u001B[0m: current transaction is aborted, commands ignored until end of transaction block\n"
     ]
    }
   ],
   "source": [],
   "metadata": {
    "collapsed": false,
    "pycharm": {
     "name": "#%%\n"
    }
   }
  },
  {
   "cell_type": "code",
   "execution_count": 52,
   "outputs": [
    {
     "name": "stdout",
     "output_type": "stream",
     "text": [
      "[0    231498\n",
      "Name: id, dtype: int64, 1    231576\n",
      "Name: id, dtype: int64, 2    231702\n",
      "Name: id, dtype: int64, 3    231920\n",
      "Name: id, dtype: int64, 4    232161\n",
      "Name: id, dtype: int64, 5    232188\n",
      "Name: id, dtype: int64, 6    232273\n",
      "Name: id, dtype: int64, 7    232274\n",
      "Name: id, dtype: int64, 8    232792\n",
      "Name: id, dtype: int64, 9    232818\n",
      "Name: id, dtype: int64]\n"
     ]
    }
   ],
   "source": [
    "import pandas as pd\n",
    "\n",
    "result = pd.read_csv('result_id.csv', sep=',')\n",
    "df = DataFrame(result)\n",
    "df_list = []\n",
    "# 数据分割\n",
    "for i in range(10):\n",
    "    df_list.append(df[i:i + 1]['id'])\n",
    "print(df_list)\n",
    "\n"
   ],
   "metadata": {
    "collapsed": false,
    "pycharm": {
     "name": "#%%\n"
    }
   }
  },
  {
   "cell_type": "code",
   "execution_count": 88,
   "outputs": [
    {
     "name": "stdout",
     "output_type": "stream",
     "text": [
      "(231702, 199222, 'Female', '44', 'Caucasian', 73, 100, 'Cardiac arrest (with or without respiratory arrest; for respiratory arrest see Respiratory System)', Decimal('167.60'), '18:12:00', -30, '', 2014, '16:50:00', 37328, 'Home', 'Alive', 'Neuro ICU', '18:42:00', 'Direct Admit', 1, 'admit', None, Decimal('96.80'), '00:55:00', 4693, 'Floor', 'Alive', '002-51684')\n",
      "(231702, 199222, 'Female', '44', 'Caucasian', 73, 100, 'Cardiac arrest (with or without respiratory arrest; for respiratory arrest see Respiratory System)', Decimal('167.60'), '18:12:00', -30, '', 2014, '16:50:00', 37328, 'Home', 'Alive', 'Neuro ICU', '18:42:00', 'Direct Admit', 1, 'admit', None, Decimal('96.80'), '00:55:00', 4693, 'Floor', 'Alive', '002-51684')\n",
      "(231702, 199222, 'Female', '44', 'Caucasian', 73, 100, 'Cardiac arrest (with or without respiratory arrest; for respiratory arrest see Respiratory System)', Decimal('167.60'), '18:12:00', -30, '', 2014, '16:50:00', 37328, 'Home', 'Alive', 'Neuro ICU', '18:42:00', 'Direct Admit', 1, 'admit', None, Decimal('96.80'), '00:55:00', 4693, 'Floor', 'Alive', '002-51684')\n",
      "(231702, 199222, 'Female', '44', 'Caucasian', 73, 100, 'Cardiac arrest (with or without respiratory arrest; for respiratory arrest see Respiratory System)', Decimal('167.60'), '18:12:00', -30, '', 2014, '16:50:00', 37328, 'Home', 'Alive', 'Neuro ICU', '18:42:00', 'Direct Admit', 1, 'admit', None, Decimal('96.80'), '00:55:00', 4693, 'Floor', 'Alive', '002-51684')\n",
      "(231702, 199222, 'Female', '44', 'Caucasian', 73, 100, 'Cardiac arrest (with or without respiratory arrest; for respiratory arrest see Respiratory System)', Decimal('167.60'), '18:12:00', -30, '', 2014, '16:50:00', 37328, 'Home', 'Alive', 'Neuro ICU', '18:42:00', 'Direct Admit', 1, 'admit', None, Decimal('96.80'), '00:55:00', 4693, 'Floor', 'Alive', '002-51684')\n",
      "(231702, 199222, 'Female', '44', 'Caucasian', 73, 100, 'Cardiac arrest (with or without respiratory arrest; for respiratory arrest see Respiratory System)', Decimal('167.60'), '18:12:00', -30, '', 2014, '16:50:00', 37328, 'Home', 'Alive', 'Neuro ICU', '18:42:00', 'Direct Admit', 1, 'admit', None, Decimal('96.80'), '00:55:00', 4693, 'Floor', 'Alive', '002-51684')\n",
      "(231702, 199222, 'Female', '44', 'Caucasian', 73, 100, 'Cardiac arrest (with or without respiratory arrest; for respiratory arrest see Respiratory System)', Decimal('167.60'), '18:12:00', -30, '', 2014, '16:50:00', 37328, 'Home', 'Alive', 'Neuro ICU', '18:42:00', 'Direct Admit', 1, 'admit', None, Decimal('96.80'), '00:55:00', 4693, 'Floor', 'Alive', '002-51684')\n",
      "(231702, 199222, 'Female', '44', 'Caucasian', 73, 100, 'Cardiac arrest (with or without respiratory arrest; for respiratory arrest see Respiratory System)', Decimal('167.60'), '18:12:00', -30, '', 2014, '16:50:00', 37328, 'Home', 'Alive', 'Neuro ICU', '18:42:00', 'Direct Admit', 1, 'admit', None, Decimal('96.80'), '00:55:00', 4693, 'Floor', 'Alive', '002-51684')\n"
     ]
    }
   ],
   "source": [
    "import psycopg2\n",
    "\n",
    "unitid = [ 231702, 231920, 232161, 232188, 232273, 232274, 232792, 232818]\n",
    "conn = psycopg2.connect(database=\"eicu\", user=\"postgres\", password=\"123456\", host=\"172.16.60.173\", port=\"3307\")\n",
    "cursor = conn.cursor()\n",
    "sql = \"set search_path to 'eicu_crd'\"\n",
    "cursor.execute(sql)\n",
    "for id in unitid:\n",
    "    sql_find = \" select * \"\\\n",
    "          \" from patient\"\\\n",
    "          \" where patient.patientunitstayid= \" + str(231702) + \\\n",
    "          \" order by patient.hospitaladmittime24 asc;\"\n",
    "\n",
    "    cursor.execute(sql_find)\n",
    "    list = cursor.fetchone()\n",
    "    print(list)\n",
    "    # cursor.close()\n",
    "    # conn.close()\n",
    "    # print(list)\n"
   ],
   "metadata": {
    "collapsed": false,
    "pycharm": {
     "name": "#%%\n"
    }
   }
  },
  {
   "cell_type": "code",
   "execution_count": 65,
   "outputs": [
    {
     "name": "stdout",
     "output_type": "stream",
     "text": [
      "11111\n"
     ]
    }
   ],
   "source": [],
   "metadata": {
    "collapsed": false,
    "pycharm": {
     "name": "#%%\n"
    }
   }
  }
 ],
 "metadata": {
  "kernelspec": {
   "display_name": "Python 3",
   "language": "python",
   "name": "python3"
  },
  "language_info": {
   "codemirror_mode": {
    "name": "ipython",
    "version": 2
   },
   "file_extension": ".py",
   "mimetype": "text/x-python",
   "name": "python",
   "nbconvert_exporter": "python",
   "pygments_lexer": "ipython2",
   "version": "2.7.6"
  }
 },
 "nbformat": 4,
 "nbformat_minor": 0
}