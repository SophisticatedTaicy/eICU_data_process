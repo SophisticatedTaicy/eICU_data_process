{
 "cells": [
  {
   "cell_type": "code",
   "execution_count": 105,
   "metadata": {
    "collapsed": true,
    "pycharm": {
     "name": "#%%\n"
    }
   },
   "outputs": [
    {
     "name": "stdout",
     "output_type": "stream",
     "text": [
      "(100, 10)\n"
     ]
    }
   ],
   "source": [
    "import pandas as pd\n",
    "\n",
    "df = pd.read_csv('./file/test.csv',sep=',')\n",
    "print(df.shape)"
   ]
  },
  {
   "cell_type": "code",
   "execution_count": 2,
   "outputs": [
    {
     "name": "stdout",
     "output_type": "stream",
     "text": [
      "etCO2_changerate\n"
     ]
    }
   ],
   "source": [
    "result_header = ['id',\n",
    "                 'warfarin', 'dobutamine', 'Dopamine', 'epinephrine', 'Heparin', 'Milrinone', 'Norepinephrine',\n",
    "                 'phenylephrine', 'vasopressin', 'Vasopressor', 'Acute_Coronary_Syndrome_diagnosis',\n",
    "                 'Acute_Myocardial_Infarction', 'Acute_Renal_Failure', 'Arrhythmia',\n",
    "                 'Asthma_Emphysema', 'Cancer', 'Cardiac_Arrest', 'Cardiogenic_Shock', 'Cardiovascular_Medical',\n",
    "                 'Cardiovascular_Other', 'Cerebrovascular_Accident_Stroke', 'Chest_Pain_Unknown_Origin', 'Coma',\n",
    "                 'Coronary_Artery_Bypass_Graft', 'Diabetic_Ketoacidosis', 'Gastrointestinal_Bleed',\n",
    "                 'Gastrointestinal_Obstruction', 'Neurologic', 'Overdose', 'Pneumonia', 'Respiratory_Medical_Other',\n",
    "                 'Sepsis', 'Thoracotomy', 'Trauma', 'Valve_Disease', 'others_diease', 'admitsource', 'age', 'gender',\n",
    "                 'BMI', 'status', 'admission_score',\n",
    "                 'pH_median', 'pH_variances', 'pH_changerate', 'paO2_median', 'paO2_variances', 'paO2_changerate',\n",
    "                 'paCO2_median', 'paCO2_variances', 'paCO2_changerate', 'Base Excess_median', 'Base Excess_variances',\n",
    "                 'Base Excess_changerate',\n",
    "                 'bicarbonate_median', 'bicarbonate_variances', 'bicarbonate_changerate',\n",
    "                 'lactate_median', 'lactate_variances', 'lactate_changerate', 'glucose_median', 'glucose_variances',\n",
    "                 'glucose_changerate', 'WBC x 1000_median', 'WBC x 1000_variances', 'WBC x 1000_changerate',\n",
    "                 '-basos_median', '-basos_variances', '-basos_changerate', '-eos_median', '-eos_variances',\n",
    "                 '-eos_changerate', '-bands_median', '-bands_variances', '-bands_changerate', 'Hemoglobin_median',\n",
    "                 'Hemoglobin_variances', 'Hemoglobin_changerate', 'hematocrit_median', 'hematocrit_variances',\n",
    "                 'hematocrit_changerate', 'platelets x 1000_median', 'platelets x 1000_variances',\n",
    "                 'platelets x 1000_changerate', 'AST (SGOT)_median', 'AST (SGOT)_variances', 'AST (SGOT)_changerate',\n",
    "                 'ALT (SGPT)_median', 'ALT (SGPT)_variances', 'ALT (SGPT)_changerate', 'total bilirubin_median',\n",
    "                 'total bilirubin_variances', 'total bilirubin_changerate',\n",
    "                 'albumin_median', 'albumin_variances', 'albumin_changerate', 'cvp_median', 'cvp_variances',\n",
    "                 'cvp_changerate', 'BUN_median', 'BUN_variances', 'BUN_changerate', 'creatinine_median',\n",
    "                 'creatinine_variances', 'creatinine_changerate', 'PT - INR_median', 'PT - INR_variances',\n",
    "                 'PT - INR_changerate', 'PTT_median', 'PTT_variances', 'PTT_changerate', 'FiO2_median',\n",
    "                 'FiO2_variances', 'FiO2_changerate', 'PEEP_median', 'PEEP_variances', 'PEEP_changerate', 'PIP_median',\n",
    "                 'PIP_variances', 'PIP_changerate',\n",
    "                 'Plateau Pressure_median', 'Plateau Pressure_variances', 'Plateau Pressure_changerate',\n",
    "                 'Mean Airway Pressure_median', 'Mean Airway Pressure_variances', 'Mean Airway Pressure_changerate',\n",
    "                 'TV/kg IBW_median', 'TV/kg IBW_variances', 'TV/kg IBW_changerate', 'Respiratory Rate_median',\n",
    "                 'Respiratory Rate_variances', 'Respiratory Rate_changerate', 'P/F ratio_median', 'P/F ratio_variances',\n",
    "                 'P/F ratio_changerate', 'GCS Total_changerate', 'GCS Total_median', 'GCS Total_variances',\n",
    "                 'Eyes_median', 'Eyes_variances', 'Eyes_changerate', 'Motor_median', 'Motor_variances',\n",
    "                 'Motor_changerate', 'Verbal_median', 'Verbal_variances', 'Verbal_changerate', 'calcium_median',\n",
    "                 'calcium_variances', 'calcium_changerate', 'ionized calcium_median', 'ionized calcium_variances',\n",
    "                 'ionized calcium_changerate', 'magnesium_median', 'magnesium_variances', 'magnesium_changerate',\n",
    "                 'potassium_median', 'potassium_variances', 'potassium_changerate', 'sodium_median', 'sodium_variances',\n",
    "                 'sodium_changerate', 'Total CO2_median', 'Total CO2_variances', 'Total CO2_changerate', 'etCO2_median',\n",
    "                 'etCO2_variances', 'etCO2_changerate', 'SaO2_median', 'SaO2_variances', 'SaO2_changerate',\n",
    "                 'Temperature_median', 'Temperature_variances', 'Temperature_changerate', 'Heart Rate_median',\n",
    "                 'Heart Rate_variances', 'Heart Rate_changerate', 'padiastolic_median', 'padiastolic_variances',\n",
    "                 'padiastolic_changerate', 'pamean_median', 'pamean_variances', 'pamean_changerate',\n",
    "                 'pasystolic_median', 'pasystolic_variances', 'pasystolic_changerate', 'Invasive BP Diastolic_median',\n",
    "                 'Invasive BP Diastolic_variances', 'Invasive BP Diastolic_changerate', 'Invasive BP Mean_median',\n",
    "                 'Invasive BP Mean_variances', 'Invasive BP Mean_changerate', 'Invasive BP Systolic_median',\n",
    "                 'Invasive BP Systolic_variances', 'Invasive BP Systolic_changerate',\n",
    "                 'Non-Invasive BP Diastolic_median', 'Non-Invasive BP Diastolic_variances',\n",
    "                 'Non-Invasive BP Diastolic_changerate', 'Non-Invasive BP Mean_median',\n",
    "                 'Non-Invasive BP Mean_variances', 'Non-Invasive BP Mean_changerate', 'Non-Invasive BP Systolic_median',\n",
    "                 'Non-Invasive BP Systolic_variances', 'Non-Invasive BP Systolic_changerate']\n",
    "print(result_header[168])"
   ],
   "metadata": {
    "collapsed": false,
    "pycharm": {
     "name": "#%%\n"
    }
   }
  },
  {
   "cell_type": "code",
   "execution_count": 106,
   "outputs": [
    {
     "name": "stdout",
     "output_type": "stream",
     "text": [
      "labid                      50363250\n",
      "patientunitstayid            141168\n",
      "labresultoffset                1133\n",
      "labtypeid                         3\n",
      "labname                          PT\n",
      "labresult                      26.6\n",
      "labresulttext                  26.6\n",
      "labmeasurenamesystem            sec\n",
      "labmeasurenameinterface         sec\n",
      "labresultrevisedoffset         1208\n",
      "Name: 3, dtype: object\n",
      "labid                      56072055\n",
      "patientunitstayid            141168\n",
      "labresultoffset                 231\n",
      "labtypeid                         3\n",
      "labname                          PT\n",
      "labresult                      17.1\n",
      "labresulttext                  17.1\n",
      "labmeasurenamesystem            sec\n",
      "labmeasurenameinterface         sec\n",
      "labresultrevisedoffset          268\n",
      "Name: 11, dtype: object\n",
      "labid                      50567433\n",
      "patientunitstayid            141168\n",
      "labresultoffset                2026\n",
      "labtypeid                         3\n",
      "labname                          PT\n",
      "labresult                      43.3\n",
      "labresulttext                  43.3\n",
      "labmeasurenamesystem            sec\n",
      "labmeasurenameinterface         sec\n",
      "labresultrevisedoffset         2219\n",
      "Name: 41, dtype: object\n",
      "labid                      56391148\n",
      "patientunitstayid            141168\n",
      "labresultoffset                 516\n",
      "labtypeid                         3\n",
      "labname                          PT\n",
      "labresult                        20\n",
      "labresulttext                  20.0\n",
      "labmeasurenamesystem            sec\n",
      "labmeasurenameinterface         sec\n",
      "labresultrevisedoffset          534\n",
      "Name: 83, dtype: object\n",
      "labid                      56035789\n",
      "patientunitstayid            141168\n",
      "labresultoffset                2026\n",
      "labtypeid                         3\n",
      "labname                          PT\n",
      "labresult                      46.1\n",
      "labresulttext                  46.1\n",
      "labmeasurenamesystem            sec\n",
      "labmeasurenameinterface         sec\n",
      "labresultrevisedoffset         2069\n",
      "Name: 94, dtype: object\n"
     ]
    }
   ],
   "source": [
    "for idx, row in df.iterrows():\n",
    "    if 'PT' == row['labname']:\n",
    "        print(row)"
   ],
   "metadata": {
    "collapsed": false,
    "pycharm": {
     "name": "#%%\n"
    }
   }
  },
  {
   "cell_type": "code",
   "execution_count": 107,
   "outputs": [],
   "source": [
    "# 去重lab中的左右患者id\n",
    "# df = pd.read_csv('./file/lab-pf.csv', sep=',')\n",
    "# # id去重\n",
    "# distinct_id_in_lab_df = pd.DataFrame(df)\n",
    "# distinct_id_in_lab_df.drop_duplicates(subset=['id'], keep='first', inplace=True)\n",
    "# # 添加表头\n",
    "# distinct_id_in_lab_df.to_csv(\"./file/distinct_id_in_lab_df.csv\", columns=['id'])"
   ],
   "metadata": {
    "collapsed": false,
    "pycharm": {
     "name": "#%%\n"
    }
   }
  },
  {
   "cell_type": "code",
   "execution_count": 116,
   "outputs": [
    {
     "name": "stdout",
     "output_type": "stream",
     "text": [
      "[0]\n",
      "[85265]\n"
     ]
    }
   ],
   "source": [
    "distinct_id_in_lab_df = pd.read_csv('./file/distinct_id_in_lab_df.csv', sep=',')\n",
    "df = pd.DataFrame(distinct_id_in_lab_df)\n",
    "print(df.head(1).index.tolist())\n",
    "print(df.tail(1).index.tolist())"
   ],
   "metadata": {
    "collapsed": false,
    "pycharm": {
     "name": "#%%\n"
    }
   }
  },
  {
   "cell_type": "code",
   "execution_count": 5,
   "outputs": [],
   "source": [
    "import pandas as pd\n",
    "a = {'a':111, 'b':222}\n",
    "a_pd = pd.DataFrame([a])\n",
    "a_pd.to_csv('././file/aaaa.csv')"
   ],
   "metadata": {
    "collapsed": false,
    "pycharm": {
     "name": "#%%\n"
    }
   }
  },
  {
   "cell_type": "code",
   "execution_count": null,
   "outputs": [],
   "source": [],
   "metadata": {
    "collapsed": false,
    "pycharm": {
     "name": "#%%\n"
    }
   }
  },
  {
   "cell_type": "code",
   "execution_count": 7,
   "outputs": [
    {
     "data": {
      "text/plain": "(0, 310)"
     },
     "execution_count": 7,
     "metadata": {},
     "output_type": "execute_result"
    }
   ],
   "source": [
    "test_df = pd.read_csv('./file/test.csv')\n",
    "test_df.shape"
   ],
   "metadata": {
    "collapsed": false,
    "pycharm": {
     "name": "#%%\n"
    }
   }
  },
  {
   "cell_type": "code",
   "execution_count": null,
   "outputs": [],
   "source": [
    "result : {'id': 2493711, 'warfarin': 0, 'dobutamine': 0, 'Dopamine': 0, 'epinephrine': 0, 'Heparin': 0, 'Milrinone': 0, 'Norepinephrine': 0, 'phenylephrine': 0, 'vasopressin': 0, 'Vasopressor': 0, 'Acute_Coronary_Syndrome_diagnosis': 0, 'Acute_Myocardial_Infarction': 0, 'Acute_Renal_Failure': 0, 'Arrhythmia': 0, 'Asthma_Emphysema': 0, 'Cancer': 0, 'Cardiac_Arrest': 0, 'Cardiogenic_Shock': 0, 'Cardiovascular_Medical': 0, 'Cardiovascular_Other': 0, 'Cerebrovascular_Accident_Stroke': 0, 'Chest_Pain_Unknown_Origin': 0, 'Coma': 0, 'Coronary_Artery_Bypass_Graft': 0, 'Diabetic_Ketoacidosis': 0, 'Gastrointestinal_Bleed': 0, 'Gastrointestinal_Obstruction': 0, 'Neurologic': 0, 'Overdose': 0, 'Pneumonia': 0, 'Respiratory_Medical_Other': 0, 'Sepsis': 0, 'Thoracotomy': 0, 'Trauma': 0, 'Valve_Disease': 0, 'others_diease': 0, 'admitsource': 4, 'age': Decimal('55'), 'gender': 1, 'BMI': Decimal('45.44'), 'status': 1, 'admission_score': 24, 'pH_median': Decimal('7.32'), 'pH_variances': Decimal('0.00'), 'pH_changerate': Decimal('0.00'), 'paO2_median': Decimal('87.00'), 'paO2_variances': Decimal('114.49'), 'paO2_changerate': Decimal('0.28'), 'paCO2_median': Decimal('79.50'), 'paCO2_variances': Decimal('6.25'), 'paCO2_changerate': Decimal('0.06'), 'Base Excess_median': Decimal('13.70'), 'Base Excess_variances': Decimal('0.36'), 'Base Excess_changerate': Decimal('0.09'), 'bicarbonate_median': Decimal('40.00'), 'bicarbonate_variances': Decimal('0.22'), 'bicarbonate_changerate': Decimal('0.02'), 'lactate_median': '-', 'lactate_variances': '-', 'lactate_changerate': '-', 'glucose_median': Decimal('105.50'), 'glucose_variances': Decimal('161.19'), 'glucose_changerate': Decimal('0.36'), 'WBC x 1000_median': Decimal('3.70'), 'WBC x 1000_variances': 0, 'WBC x 1000_changerate': 0, '-basos_median': '-', '-basos_variances': '-', '-basos_changerate': '-', '-eos_median': Decimal('3.00'), '-eos_variances': 0, '-bands_median': '-', '-bands_variances': '-', '-bands_changerate': '-', 'Hemoglobin_median': '-', 'Hemoglobin_variances': '-', 'Hemoglobin_changerate': '-', 'hematocrit_median': Decimal('38.20'), 'hematocrit_variances': 0, 'platelets x 1000_median': 0, 'platelets x 1000_variances': 0, 'platelets x 1000_changerate': 0, 'AST (SGOT)_median': '-', 'AST (SGOT)_variances': '-', 'AST (SGOT)_changerate': '-', 'ALT (SGPT)_median': '-', 'ALT (SGPT)_variances': '-', 'ALT (SGPT)_changerate': '-', 'total bilirubin_median': '-', 'total bilirubin_variances': '-', 'total bilirubin_changerate': '-', 'albumin_median': '-', 'albumin_variances': '-', 'albumin_changerate': '-', 'cvp_median': '-', 'cvp_variances': '-', 'cvp_changerate': '-', 'BUN_median': Decimal('17.00'), 'BUN_variances': 0, 'BUN_changerate': 0, 'creatinine_median': Decimal('1.50'), 'creatinine_variances': 0, 'creatinine_changerate': 0, 'PT - INR_median': '-', 'PT - INR_variances': '-', 'PT - INR_changerate': '-', 'PTT_median': '-', 'PTT_variances': '-', 'PTT_changerate': '-', 'FiO2_median': Decimal('75.00'), 'FiO2_variances': Decimal('625.00'), 'FiO2_changerate': Decimal('1.00'), 'PEEP_median': '-', 'PEEP_variances': '-', 'PEEP_changerate': '-', 'PIP_median': '-', 'PIP_variances': '-', 'PIP_changerate': '-', 'Plateau Pressure_median': '-', 'Plateau Pressure_variances': '-', 'Plateau Pressure_changerate': '-', 'Mean Airway Pressure_median': '-', 'Mean Airway Pressure_variances': '-', 'Mean Airway Pressure_changerate': '-', 'TV/kg IBW_median': '-', 'TV/kg IBW_variances': '-', 'TV/kg IBW_changerate': '-', 'Respiratory Rate_median': Decimal('17.00'), 'Respiratory Rate_variances': Decimal('14.54'), 'Respiratory Rate_changerate': Decimal('1.78'), 'P/F ratio_median': Decimal('125.15'), 'P/F ratio_variances': Decimal('753.50'), 'P/F ratio_changerate': Decimal('0.56'), 'GCS Total_changerate': Decimal('0.00'), 'GCS Total_median': Decimal('15.00'), 'GCS Total_variances': Decimal('0.00'), 'Eyes_median': Decimal('4.00'), 'Eyes_variances': Decimal('0.00'), 'Eyes_changerate': Decimal('0.00'), 'Motor_median': Decimal('6.00'), 'Motor_variances': Decimal('0.00'), 'Motor_changerate': Decimal('0.00'), 'Verbal_median': Decimal('5.00'), 'Verbal_variances': Decimal('0.00'), 'Verbal_changerate': Decimal('0.00'), 'calcium_median': Decimal('8.90'), 'calcium_variances': 0, 'calcium_changerate': 0, 'ionized calcium_median': '-', 'ionized calcium_variances': '-', 'ionized calcium_changerate': '-', 'magnesium_median': Decimal('1.80'), 'magnesium_variances': 0, 'magnesium_changerate': 0, 'potassium_median': Decimal('4.40'), 'potassium_variances': 0, 'potassium_changerate': 0, 'sodium_median': Decimal('132.00'), 'sodium_variances': 0, 'sodium_changerate': 0, 'Total CO2_median': '-', 'Total CO2_variances': '-', 'Total CO2_changerate': '-', 'etCO2_median': '-', 'etCO2_variances': '-', 'etCO2_changerate': '-', 'SaO2_median': '-', 'SaO2_variances': '-', 'SaO2_changerate': '-', 'Temperature_median': '-', 'Temperature_variances': '-', 'Temperature_changerate': '-', 'Heart Rate_median': Decimal('58.00'), 'Heart Rate_variances': Decimal('8.48'), 'Heart Rate_changerate': Decimal('0.24'), 'padiastolic_median': '-', 'padiastolic_variances': '-', 'padiastolic_changerate': '-', 'pamean_median': '-', 'pamean_variances': '-', 'pamean_changerate': '-', 'pasystolic_median': '-', 'pasystolic_variances': '-', 'pasystolic_changerate': '-', 'Invasive BP Diastolic_median': '-', 'Invasive BP Diastolic_variances': '-', 'Invasive BP Diastolic_changerate': '-', 'Invasive BP Mean_median': '-', 'Invasive BP Mean_variances': '-', 'Invasive BP Mean_changerate': '-', 'Invasive BP Systolic_median': '-', 'Invasive BP Systolic_variances': '-', 'Invasive BP Systolic_changerate': '-', 'Non-Invasive BP Diastolic_median': Decimal('63.00'), 'Non-Invasive BP Diastolic_variances': Decimal('17.81'), 'Non-Invasive BP Diastolic_changerate': Decimal('0.34'), 'Non-Invasive BP Mean_median': Decimal('73.00'), 'Non-Invasive BP Mean_variances': Decimal('20.91'), 'Non-Invasive BP Mean_changerate': Decimal('0.29'), 'Non-Invasive BP Systolic_median': Decimal('106.00'), 'Non-Invasive BP Systolic_variances': Decimal('64.89'), 'Non-Invasive BP Systolic_changerate': Decimal('0.39'), '-eos_changerate': 0, 'hematocrit_changerate': 0, 'platelets x 1000_median': Decimal('134.00')}\n"
   ],
   "metadata": {
    "collapsed": false,
    "pycharm": {
     "name": "#%%\n"
    }
   }
  }
 ],
 "metadata": {
  "kernelspec": {
   "display_name": "Python 3",
   "language": "python",
   "name": "python3"
  },
  "language_info": {
   "codemirror_mode": {
    "name": "ipython",
    "version": 2
   },
   "file_extension": ".py",
   "mimetype": "text/x-python",
   "name": "python",
   "nbconvert_exporter": "python",
   "pygments_lexer": "ipython2",
   "version": "2.7.6"
  }
 },
 "nbformat": 4,
 "nbformat_minor": 0
}